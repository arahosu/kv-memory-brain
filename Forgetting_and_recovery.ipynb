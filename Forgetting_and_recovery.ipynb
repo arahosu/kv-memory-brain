{
  "nbformat": 4,
  "nbformat_minor": 0,
  "metadata": {
    "colab": {
      "provenance": []
    },
    "kernelspec": {
      "name": "python3",
      "display_name": "Python 3"
    },
    "accelerator": "GPU"
  },
  "cells": [
    {
      "cell_type": "markdown",
      "source": [
        "# Forgetting as retrieval failure, and recovery by memory reactivation\n",
        "\n",
        "NB: we recommend using a GPU for this simulation; remember to enable the GPU in the notebook setting if you are using Google Colab"
      ],
      "metadata": {
        "id": "HEDs_XRBa58A"
      }
    },
    {
      "cell_type": "code",
      "metadata": {
        "id": "wyP8Ih5YIgYI"
      },
      "source": [
        "import torch\n",
        "import torch.nn as nn\n",
        "import torch.nn.functional as F\n",
        "import torchvision\n",
        "import torchvision.transforms as transforms\n",
        "\n",
        "import numpy as np\n",
        "import matplotlib.pyplot as plt\n",
        "\n",
        "plt.style.use('ggplot')"
      ],
      "execution_count": 1,
      "outputs": []
    },
    {
      "cell_type": "code",
      "source": [
        "!python --version"
      ],
      "metadata": {
        "colab": {
          "base_uri": "https://localhost:8080/"
        },
        "id": "adUcbLO7AwdY",
        "outputId": "898b3a8e-93e2-4a8a-85ab-6ddcd9292c64"
      },
      "execution_count": 2,
      "outputs": [
        {
          "output_type": "stream",
          "name": "stdout",
          "text": [
            "Python 3.10.12\n"
          ]
        }
      ]
    },
    {
      "cell_type": "code",
      "source": [
        "torch.__version__"
      ],
      "metadata": {
        "colab": {
          "base_uri": "https://localhost:8080/",
          "height": 35
        },
        "id": "TmwjsNSsg3YS",
        "outputId": "f4d8d033-9768-4f36-9861-8b27d5e4563d"
      },
      "execution_count": 3,
      "outputs": [
        {
          "output_type": "execute_result",
          "data": {
            "text/plain": [
              "'2.5.1+cu121'"
            ],
            "application/vnd.google.colaboratory.intrinsic+json": {
              "type": "string"
            }
          },
          "metadata": {},
          "execution_count": 3
        }
      ]
    },
    {
      "cell_type": "code",
      "source": [
        "!nvidia-smi"
      ],
      "metadata": {
        "colab": {
          "base_uri": "https://localhost:8080/"
        },
        "id": "JvKt7v8N_hT7",
        "outputId": "56daa228-5506-4ef9-9331-72d647f643fb"
      },
      "execution_count": 4,
      "outputs": [
        {
          "output_type": "stream",
          "name": "stdout",
          "text": [
            "Wed Dec 18 20:21:54 2024       \n",
            "+---------------------------------------------------------------------------------------+\n",
            "| NVIDIA-SMI 535.104.05             Driver Version: 535.104.05   CUDA Version: 12.2     |\n",
            "|-----------------------------------------+----------------------+----------------------+\n",
            "| GPU  Name                 Persistence-M | Bus-Id        Disp.A | Volatile Uncorr. ECC |\n",
            "| Fan  Temp   Perf          Pwr:Usage/Cap |         Memory-Usage | GPU-Util  Compute M. |\n",
            "|                                         |                      |               MIG M. |\n",
            "|=========================================+======================+======================|\n",
            "|   0  Tesla T4                       Off | 00000000:00:04.0 Off |                    0 |\n",
            "| N/A   52C    P8              10W /  70W |      0MiB / 15360MiB |      0%      Default |\n",
            "|                                         |                      |                  N/A |\n",
            "+-----------------------------------------+----------------------+----------------------+\n",
            "                                                                                         \n",
            "+---------------------------------------------------------------------------------------+\n",
            "| Processes:                                                                            |\n",
            "|  GPU   GI   CI        PID   Type   Process name                            GPU Memory |\n",
            "|        ID   ID                                                             Usage      |\n",
            "|=======================================================================================|\n",
            "|  No running processes found                                                           |\n",
            "+---------------------------------------------------------------------------------------+\n"
          ]
        }
      ]
    },
    {
      "cell_type": "code",
      "source": [
        "# See https://pytorch.org/docs/stable/notes/randomness.html\n",
        "seed = 0\n",
        "torch.manual_seed(seed)\n",
        "np.random.seed(seed)\n",
        "\n",
        "if torch.cuda.is_available():\n",
        "    torch.cuda.manual_seed_all(seed)\n",
        "    # torch.backends.cudnn.deterministic = True"
      ],
      "metadata": {
        "id": "KIBCFatMjBgC"
      },
      "execution_count": 5,
      "outputs": []
    },
    {
      "cell_type": "code",
      "metadata": {
        "id": "oWafsBpCzBrj"
      },
      "source": [
        "device = torch.device(\"cuda\" if torch.cuda.is_available() else \"cpu\")"
      ],
      "execution_count": 6,
      "outputs": []
    },
    {
      "cell_type": "code",
      "metadata": {
        "id": "u45Ay1FKfHRb"
      },
      "source": [
        "# Hyper-parameters\n",
        "input_size = 784\n",
        "hidden_size = 64\n",
        "num_classes = 4  # class-incremental continual learning with 2 tasks and 2 classes\n",
        "\n",
        "# for training:\n",
        "batch_size = 128\n",
        "learning_rate = 0.0006\n",
        "momentum = 0.0"
      ],
      "execution_count": 7,
      "outputs": []
    },
    {
      "cell_type": "code",
      "source": [
        "# Prepare MNIST dataset\n",
        "\n",
        "# train\n",
        "train_set = torchvision.datasets.MNIST(\n",
        "    root='./data', train=True, transform=transforms.ToTensor(), download=True)\n",
        "\n",
        "# restrict number of classes\n",
        "idx = train_set.train_labels<2\n",
        "train_set.targets = train_set.targets[idx]\n",
        "train_set.data = train_set.data[idx]\n",
        "\n",
        "train_loader = torch.utils.data.DataLoader(\n",
        "    dataset=train_set, batch_size=batch_size, shuffle=False, pin_memory=True)\n",
        "\n",
        "# test\n",
        "test_set = torchvision.datasets.MNIST(\n",
        "    root='./data', train=False, transform=transforms.ToTensor(), download=True)\n",
        "\n",
        "# restrict number of classes\n",
        "idx = test_set.train_labels<2\n",
        "test_set.targets = test_set.targets[idx]\n",
        "test_set.data = test_set.data[idx]\n",
        "\n",
        "test_loader = torch.utils.data.DataLoader(\n",
        "    dataset=test_set, batch_size=batch_size, shuffle=False, pin_memory=True)"
      ],
      "metadata": {
        "colab": {
          "base_uri": "https://localhost:8080/"
        },
        "id": "YghdODWEtXO0",
        "outputId": "8391cf26-a426-4f8f-fdc6-d0351d7abf44"
      },
      "execution_count": 8,
      "outputs": [
        {
          "output_type": "stream",
          "name": "stdout",
          "text": [
            "Downloading http://yann.lecun.com/exdb/mnist/train-images-idx3-ubyte.gz\n",
            "Failed to download (trying next):\n",
            "HTTP Error 403: Forbidden\n",
            "\n",
            "Downloading https://ossci-datasets.s3.amazonaws.com/mnist/train-images-idx3-ubyte.gz\n",
            "Downloading https://ossci-datasets.s3.amazonaws.com/mnist/train-images-idx3-ubyte.gz to ./data/MNIST/raw/train-images-idx3-ubyte.gz\n"
          ]
        },
        {
          "output_type": "stream",
          "name": "stderr",
          "text": [
            "100%|██████████| 9.91M/9.91M [00:01<00:00, 4.99MB/s]\n"
          ]
        },
        {
          "output_type": "stream",
          "name": "stdout",
          "text": [
            "Extracting ./data/MNIST/raw/train-images-idx3-ubyte.gz to ./data/MNIST/raw\n",
            "\n",
            "Downloading http://yann.lecun.com/exdb/mnist/train-labels-idx1-ubyte.gz\n",
            "Failed to download (trying next):\n",
            "HTTP Error 403: Forbidden\n",
            "\n",
            "Downloading https://ossci-datasets.s3.amazonaws.com/mnist/train-labels-idx1-ubyte.gz\n",
            "Downloading https://ossci-datasets.s3.amazonaws.com/mnist/train-labels-idx1-ubyte.gz to ./data/MNIST/raw/train-labels-idx1-ubyte.gz\n"
          ]
        },
        {
          "output_type": "stream",
          "name": "stderr",
          "text": [
            "100%|██████████| 28.9k/28.9k [00:00<00:00, 133kB/s]\n"
          ]
        },
        {
          "output_type": "stream",
          "name": "stdout",
          "text": [
            "Extracting ./data/MNIST/raw/train-labels-idx1-ubyte.gz to ./data/MNIST/raw\n",
            "\n",
            "Downloading http://yann.lecun.com/exdb/mnist/t10k-images-idx3-ubyte.gz\n",
            "Failed to download (trying next):\n",
            "HTTP Error 403: Forbidden\n",
            "\n",
            "Downloading https://ossci-datasets.s3.amazonaws.com/mnist/t10k-images-idx3-ubyte.gz\n",
            "Downloading https://ossci-datasets.s3.amazonaws.com/mnist/t10k-images-idx3-ubyte.gz to ./data/MNIST/raw/t10k-images-idx3-ubyte.gz\n"
          ]
        },
        {
          "output_type": "stream",
          "name": "stderr",
          "text": [
            "100%|██████████| 1.65M/1.65M [00:01<00:00, 1.26MB/s]\n"
          ]
        },
        {
          "output_type": "stream",
          "name": "stdout",
          "text": [
            "Extracting ./data/MNIST/raw/t10k-images-idx3-ubyte.gz to ./data/MNIST/raw\n",
            "\n",
            "Downloading http://yann.lecun.com/exdb/mnist/t10k-labels-idx1-ubyte.gz\n",
            "Failed to download (trying next):\n",
            "HTTP Error 403: Forbidden\n",
            "\n",
            "Downloading https://ossci-datasets.s3.amazonaws.com/mnist/t10k-labels-idx1-ubyte.gz\n",
            "Downloading https://ossci-datasets.s3.amazonaws.com/mnist/t10k-labels-idx1-ubyte.gz to ./data/MNIST/raw/t10k-labels-idx1-ubyte.gz\n"
          ]
        },
        {
          "output_type": "stream",
          "name": "stderr",
          "text": [
            "100%|██████████| 4.54k/4.54k [00:00<00:00, 9.03MB/s]"
          ]
        },
        {
          "output_type": "stream",
          "name": "stdout",
          "text": [
            "Extracting ./data/MNIST/raw/t10k-labels-idx1-ubyte.gz to ./data/MNIST/raw\n",
            "\n"
          ]
        },
        {
          "output_type": "stream",
          "name": "stderr",
          "text": [
            "\n",
            "/usr/local/lib/python3.10/dist-packages/torchvision/datasets/mnist.py:66: UserWarning: train_labels has been renamed targets\n",
            "  warnings.warn(\"train_labels has been renamed targets\")\n"
          ]
        }
      ]
    },
    {
      "cell_type": "code",
      "source": [
        "# Prepare FashionMNIST dataset\n",
        "\n",
        "# train\n",
        "f_train_set = torchvision.datasets.FashionMNIST(\n",
        "    root='./data', train=True, transform=transforms.ToTensor(), download=True)\n",
        "\n",
        "# restrict number of classes\n",
        "idx = torch.logical_and(f_train_set.train_labels<num_classes, 1<f_train_set.train_labels)\n",
        "f_train_set.targets = f_train_set.targets[idx]\n",
        "f_train_set.data = f_train_set.data[idx]\n",
        "\n",
        "f_train_loader = torch.utils.data.DataLoader(\n",
        "    dataset=f_train_set, batch_size=batch_size, shuffle=False, pin_memory=True)\n",
        "\n",
        "# test\n",
        "f_test_set = torchvision.datasets.FashionMNIST(\n",
        "    root='./data', train=False, transform=transforms.ToTensor(), download=True)\n",
        "\n",
        "idx = torch.logical_and(f_test_set.train_labels<num_classes, 1<f_test_set.train_labels)\n",
        "\n",
        "f_test_set.targets = f_test_set.targets[idx]\n",
        "f_test_set.data = f_test_set.data[idx]\n",
        "\n",
        "f_test_loader = torch.utils.data.DataLoader(\n",
        "    dataset=f_test_set, batch_size=batch_size, shuffle=False, pin_memory=True)"
      ],
      "metadata": {
        "id": "QX9Q2k2axQnh",
        "colab": {
          "base_uri": "https://localhost:8080/"
        },
        "outputId": "255d8060-d6f1-4105-8e3b-7f8fdbb38d9a"
      },
      "execution_count": 9,
      "outputs": [
        {
          "output_type": "stream",
          "name": "stdout",
          "text": [
            "Downloading http://fashion-mnist.s3-website.eu-central-1.amazonaws.com/train-images-idx3-ubyte.gz\n",
            "Downloading http://fashion-mnist.s3-website.eu-central-1.amazonaws.com/train-images-idx3-ubyte.gz to ./data/FashionMNIST/raw/train-images-idx3-ubyte.gz\n"
          ]
        },
        {
          "output_type": "stream",
          "name": "stderr",
          "text": [
            "100%|██████████| 26.4M/26.4M [00:02<00:00, 10.9MB/s]\n"
          ]
        },
        {
          "output_type": "stream",
          "name": "stdout",
          "text": [
            "Extracting ./data/FashionMNIST/raw/train-images-idx3-ubyte.gz to ./data/FashionMNIST/raw\n",
            "\n",
            "Downloading http://fashion-mnist.s3-website.eu-central-1.amazonaws.com/train-labels-idx1-ubyte.gz\n",
            "Downloading http://fashion-mnist.s3-website.eu-central-1.amazonaws.com/train-labels-idx1-ubyte.gz to ./data/FashionMNIST/raw/train-labels-idx1-ubyte.gz\n"
          ]
        },
        {
          "output_type": "stream",
          "name": "stderr",
          "text": [
            "100%|██████████| 29.5k/29.5k [00:00<00:00, 175kB/s]\n"
          ]
        },
        {
          "output_type": "stream",
          "name": "stdout",
          "text": [
            "Extracting ./data/FashionMNIST/raw/train-labels-idx1-ubyte.gz to ./data/FashionMNIST/raw\n",
            "\n",
            "Downloading http://fashion-mnist.s3-website.eu-central-1.amazonaws.com/t10k-images-idx3-ubyte.gz\n",
            "Downloading http://fashion-mnist.s3-website.eu-central-1.amazonaws.com/t10k-images-idx3-ubyte.gz to ./data/FashionMNIST/raw/t10k-images-idx3-ubyte.gz\n"
          ]
        },
        {
          "output_type": "stream",
          "name": "stderr",
          "text": [
            "100%|██████████| 4.42M/4.42M [00:01<00:00, 3.30MB/s]\n"
          ]
        },
        {
          "output_type": "stream",
          "name": "stdout",
          "text": [
            "Extracting ./data/FashionMNIST/raw/t10k-images-idx3-ubyte.gz to ./data/FashionMNIST/raw\n",
            "\n",
            "Downloading http://fashion-mnist.s3-website.eu-central-1.amazonaws.com/t10k-labels-idx1-ubyte.gz\n",
            "Downloading http://fashion-mnist.s3-website.eu-central-1.amazonaws.com/t10k-labels-idx1-ubyte.gz to ./data/FashionMNIST/raw/t10k-labels-idx1-ubyte.gz\n"
          ]
        },
        {
          "output_type": "stream",
          "name": "stderr",
          "text": [
            "100%|██████████| 5.15k/5.15k [00:00<00:00, 14.1MB/s]"
          ]
        },
        {
          "output_type": "stream",
          "name": "stdout",
          "text": [
            "Extracting ./data/FashionMNIST/raw/t10k-labels-idx1-ubyte.gz to ./data/FashionMNIST/raw\n",
            "\n"
          ]
        },
        {
          "output_type": "stream",
          "name": "stderr",
          "text": [
            "\n"
          ]
        }
      ]
    },
    {
      "cell_type": "code",
      "source": [
        "## NB: Since the goal of this simulation is to experiment with the memory recovery\n",
        "## after forgetting, there is no issue tracking the test performance during training.\n",
        "## Nevertheless, if you do not feel comfortable doing so, one can hold out a subset\n",
        "## of the training set for validation as usual/as follows, and use the corresponding\n",
        "## valid_loader in lieu of test_loader (this does not change the conclusion).\n",
        "\n",
        "# # MNIST\n",
        "# idx = np.arange(len(train_set))\n",
        "# val_indices = idx[len(train_set.targets)-1665:]\n",
        "# train_indices= idx[:-1665]\n",
        "\n",
        "# train_sampler = torch.utils.data.SubsetRandomSampler(train_indices)\n",
        "# valid_sampler = torch.utils.data.SubsetRandomSampler(val_indices)\n",
        "\n",
        "# train_loader = torch.utils.data.DataLoader(train_set, batch_size=batch_size,\n",
        "#                                            sampler=train_sampler, num_workers=2)\n",
        "\n",
        "# valid_loader = torch.utils.data.DataLoader(train_set, batch_size=batch_size,\n",
        "#                                            sampler=valid_sampler, num_workers=2)\n",
        "\n",
        "# # FashionMNIST\n",
        "# idx = np.arange(len(f_train_set))\n",
        "\n",
        "# val_indices = idx[len(f_train_set.targets)-1000:]\n",
        "# train_indices= idx[:-1000]\n",
        "\n",
        "# f_train_sampler = torch.utils.data.SubsetRandomSampler(train_indices)\n",
        "# f_valid_sampler = torch.utils.data.SubsetRandomSampler(val_indices)\n",
        "\n",
        "# f_train_loader = torch.utils.data.DataLoader(\n",
        "#     f_train_set, batch_size=batch_size, sampler=f_train_sampler, num_workers=2)\n",
        "\n",
        "# f_valid_loader = torch.utils.data.DataLoader(\n",
        "#     f_train_set, batch_size=batch_size, sampler=f_valid_sampler, num_workers=2)"
      ],
      "metadata": {
        "id": "hZ8GgmXRVhFZ"
      },
      "execution_count": 10,
      "outputs": []
    },
    {
      "cell_type": "markdown",
      "source": [
        "## Model definition\n",
        "\n",
        "NB: In this notebook, we opt for the following memory-efficient implementation that does not materialize the key-value memory pairs for each learning step; instead, we store the equivalent, linear layer weights, separately for the two tasks. Amplifying the weights corresponding to Task 1 is mathematically equivalent to amplifying the Task-1 key-value memories as described in the paper. Those interested in going beyond experiments described in our paper, e.g., ablating/manipulating the actual key-value memories, will need to implement the model differently."
      ],
      "metadata": {
        "id": "ibcb_U_1GzbY"
      }
    },
    {
      "cell_type": "code",
      "metadata": {
        "id": "pZKIzVT7bMFw"
      },
      "source": [
        "# Model definition (see text above)\n",
        "\n",
        "class SuperpositionMLPModel(nn.Module):\n",
        "    def __init__(self, input_size, hidden_size, num_classes):\n",
        "        super().__init__()\n",
        "\n",
        "        self.input_layer1 = nn.Linear(input_size, hidden_size, bias=False)\n",
        "        self.input_layer2 = nn.Linear(input_size, hidden_size, bias=False)\n",
        "\n",
        "        self.input_act = nn.ReLU(inplace=False)\n",
        "\n",
        "        self.output_layer1 = nn.Linear(hidden_size , num_classes, bias=False)\n",
        "        self.output_layer2 = nn.Linear(hidden_size , num_classes, bias=False)\n",
        "\n",
        "    def learn_first_task(self):\n",
        "        self.input_layer2.weight.data = torch.zeros_like(\n",
        "            self.input_layer2.weight.data)\n",
        "        self.input_layer2.weight.requires_grad = False\n",
        "\n",
        "        self.output_layer2.weight.data = torch.zeros_like(\n",
        "            self.output_layer2.weight.data)\n",
        "        self.output_layer2.weight.requires_grad = False\n",
        "\n",
        "    def learn_second_task(self):\n",
        "        self.input_layer1.weight.requires_grad = False\n",
        "        self.output_layer1.weight.requires_grad = False\n",
        "\n",
        "        self.input_layer2.weight.requires_grad = True\n",
        "        self.output_layer2.weight.requires_grad = True\n",
        "\n",
        "    def forward(self, x, weight_task_one=1.0):\n",
        "        out = self.input_layer1(x) * weight_task_one + self.input_layer2(x)\n",
        "        out = self.input_act(out)\n",
        "\n",
        "        out = self.output_layer1(out) * weight_task_one + self.output_layer2(out)\n",
        "        return out"
      ],
      "execution_count": 11,
      "outputs": []
    },
    {
      "cell_type": "code",
      "metadata": {
        "id": "moJmG5XsbUnT"
      },
      "source": [
        "model = SuperpositionMLPModel(input_size , hidden_size , num_classes)\n",
        "model = model.to(device)\n",
        "\n",
        "# Create loss and optimizer\n",
        "loss_fn = nn.CrossEntropyLoss()\n",
        "optimizer = torch.optim.SGD(model.parameters(), lr=learning_rate, momentum=momentum)"
      ],
      "execution_count": 12,
      "outputs": []
    },
    {
      "cell_type": "code",
      "metadata": {
        "id": "B6Ot-aCQgM4L",
        "colab": {
          "base_uri": "https://localhost:8080/"
        },
        "outputId": "c3dc0d94-fd0e-4fa3-efef-5f223a25ddb6"
      },
      "source": [
        "print(model)"
      ],
      "execution_count": 13,
      "outputs": [
        {
          "output_type": "stream",
          "name": "stdout",
          "text": [
            "SuperpositionMLPModel(\n",
            "  (input_layer1): Linear(in_features=784, out_features=64, bias=False)\n",
            "  (input_layer2): Linear(in_features=784, out_features=64, bias=False)\n",
            "  (input_act): ReLU()\n",
            "  (output_layer1): Linear(in_features=64, out_features=4, bias=False)\n",
            "  (output_layer2): Linear(in_features=64, out_features=4, bias=False)\n",
            ")\n"
          ]
        }
      ]
    },
    {
      "cell_type": "code",
      "source": [
        "mnist_acc = []\n",
        "f_mnist_acc = []\n",
        "steps = []\n",
        "k = 0"
      ],
      "metadata": {
        "id": "XDDPZmaCjGfM"
      },
      "execution_count": 14,
      "outputs": []
    },
    {
      "cell_type": "code",
      "metadata": {
        "id": "xrWIXid9bguN",
        "colab": {
          "base_uri": "https://localhost:8080/"
        },
        "outputId": "0333c337-3b36-4b9a-a73f-92bc5bfff9d0"
      },
      "source": [
        "# Training on Task 1 (MNIST)\n",
        "\n",
        "num_epochs = 5\n",
        "\n",
        "model.learn_first_task()\n",
        "\n",
        "# Evaluate initialization\n",
        "correct = 0\n",
        "total = 0\n",
        "model.eval()\n",
        "with torch.no_grad():\n",
        "    for data in test_loader:\n",
        "        images, labels = data\n",
        "        images, labels = images.to(device), labels.to(device)\n",
        "        images = images.view(-1, 28*28)\n",
        "        outputs = model(images)\n",
        "        _, predicted = outputs.max(1)\n",
        "        total += labels.size(0)\n",
        "        correct += (predicted == labels).sum().item()\n",
        "val_acc = 100 * correct / total\n",
        "mnist_acc.append(val_acc)\n",
        "steps.append(0)\n",
        "k += 1\n",
        "\n",
        "print(f'Test accuracy: {100 * correct / total: .1f} %')\n",
        "\n",
        "correct = 0\n",
        "total = 0\n",
        "model.eval()\n",
        "with torch.no_grad():\n",
        "    for data in f_test_loader:\n",
        "        images, labels = data\n",
        "        images, labels = images.to(device), labels.to(device)\n",
        "        images = images.view(-1, 28*28)\n",
        "        outputs = model(images)\n",
        "        _, predicted = outputs.max(1)\n",
        "        total += labels.size(0)\n",
        "        correct += (predicted == labels).sum().item()\n",
        "val_acc = 100 * correct / total\n",
        "f_mnist_acc.append(val_acc)\n",
        "\n",
        "\n",
        "# main training loop\n",
        "for epoch in range(1, num_epochs+1):\n",
        "    running_loss = 0.0\n",
        "    running_total = 0\n",
        "    running_correct = 0\n",
        "    run_step = 0\n",
        "\n",
        "    for i, (images, labels) in enumerate(train_loader):\n",
        "        model.train()  # put the model to train mode\n",
        "        # shape of input images is (B, 1, 28, 28).\n",
        "        images = images.view(-1, 28*28)  # reshape to (B, 784).\n",
        "        images = images.to(device)\n",
        "        labels = labels.to(device)  # shape (B).\n",
        "        net_output = model(images)  # shape (B, 10).\n",
        "\n",
        "        loss = loss_fn(net_output, labels)\n",
        "        optimizer.zero_grad()  # reset gradients.\n",
        "        loss.backward()  # compute gradients.\n",
        "\n",
        "        optimizer.step()  # update parameters.\n",
        "\n",
        "        running_loss += loss.item()\n",
        "        running_total += labels.size(0)\n",
        "\n",
        "        with torch.no_grad():\n",
        "            _, predicted = net_output.max(1)\n",
        "        running_correct += (predicted == labels).sum().item()\n",
        "        run_step += 1\n",
        "        if i % 200 == 0:\n",
        "            # check accuracy.\n",
        "            print(f'epoch: {epoch}, steps: {i}, '\n",
        "                  f'train_loss: {running_loss / run_step :.3f}, '\n",
        "                  f'running_acc: {100 * running_correct / running_total:.1f} %')\n",
        "            running_loss = 0.0\n",
        "            running_total = 0\n",
        "            running_correct = 0\n",
        "            run_step = 0\n",
        "\n",
        "    # test\n",
        "    correct = 0\n",
        "    total = 0\n",
        "    model.eval()\n",
        "    with torch.no_grad():\n",
        "        for data in test_loader:\n",
        "            images, labels = data\n",
        "            images, labels = images.to(device), labels.to(device)\n",
        "            images = images.view(-1, 28*28)\n",
        "            outputs = model(images)\n",
        "            _, predicted = outputs.max(1)\n",
        "            total += labels.size(0)\n",
        "            correct += (predicted == labels).sum().item()\n",
        "    val_acc = 100 * correct / total\n",
        "    mnist_acc.append(val_acc)\n",
        "    steps.append(epoch)\n",
        "    k += 1\n",
        "    print(f'Test accuracy: {100 * correct / total: .1f} %')\n",
        "\n",
        "    # NB: we also evaluate on Task 2 during Task 1 training (for the plot)\n",
        "    correct = 0\n",
        "    total = 0\n",
        "    model.eval()\n",
        "    with torch.no_grad():\n",
        "        for data in f_test_loader:\n",
        "            images, labels = data\n",
        "            images, labels = images.to(device), labels.to(device)\n",
        "            images = images.view(-1, 28*28)\n",
        "            outputs = model(images)\n",
        "            _, predicted = outputs.max(1)\n",
        "            total += labels.size(0)\n",
        "            correct += (predicted == labels).sum().item()\n",
        "    val_acc = 100 * correct / total\n",
        "    f_mnist_acc.append(val_acc)\n",
        "\n",
        "print('Finished Training')"
      ],
      "execution_count": 15,
      "outputs": [
        {
          "output_type": "stream",
          "name": "stdout",
          "text": [
            "Test accuracy:  48.5 %\n",
            "epoch: 1, steps: 0, train_loss: 1.367, running_acc: 51.6 %\n",
            "Test accuracy:  97.3 %\n",
            "epoch: 2, steps: 0, train_loss: 1.243, running_acc: 92.2 %\n",
            "Test accuracy:  99.2 %\n",
            "epoch: 3, steps: 0, train_loss: 1.117, running_acc: 96.9 %\n",
            "Test accuracy:  99.7 %\n",
            "epoch: 4, steps: 0, train_loss: 0.993, running_acc: 97.7 %\n",
            "Test accuracy:  99.7 %\n",
            "epoch: 5, steps: 0, train_loss: 0.874, running_acc: 99.2 %\n",
            "Test accuracy:  99.7 %\n",
            "Finished Training\n"
          ]
        }
      ]
    },
    {
      "cell_type": "code",
      "metadata": {
        "id": "rPyw2dItbnQR",
        "colab": {
          "base_uri": "https://localhost:8080/"
        },
        "outputId": "0a23eb9c-c42c-412b-9271-e644e05fec53"
      },
      "source": [
        "# Task 1 (MNIST) evaluation (just after Task 1 training)\n",
        "with torch.no_grad():\n",
        "    correct = 0\n",
        "    total = 0\n",
        "    model.eval()\n",
        "    for data in test_loader:\n",
        "        images, labels = data\n",
        "        images = images.view(-1, 28*28)\n",
        "        images = images.to(device)\n",
        "        labels = labels.to(device) # shape (B)\n",
        "        outputs = model(images) # shape (B, num_classes)\n",
        "        _, predicted = outputs.max(dim=1)\n",
        "        total += labels.size(0)\n",
        "        correct += (predicted == labels).sum().item()\n",
        "test_acc = 100 * correct / total\n",
        "print(f'Test accuracy: {test_acc} %')"
      ],
      "execution_count": 16,
      "outputs": [
        {
          "output_type": "stream",
          "name": "stdout",
          "text": [
            "Test accuracy: 99.71631205673759 %\n"
          ]
        }
      ]
    },
    {
      "cell_type": "code",
      "metadata": {
        "id": "_UV--uM4jZ6C",
        "colab": {
          "base_uri": "https://localhost:8080/"
        },
        "outputId": "1f85655e-5b4f-469e-d958-233a35735f51"
      },
      "source": [
        "# Training on Task 2 (Fashion-MNIST)\n",
        "\n",
        "model.learn_second_task()\n",
        "\n",
        "num_epochs = 5\n",
        "\n",
        "for epoch in range(1, num_epochs+1):\n",
        "    running_loss = 0.0\n",
        "    running_total = 0\n",
        "    running_correct = 0\n",
        "    run_step = 0\n",
        "\n",
        "    for i, (images, labels) in enumerate(f_train_loader):\n",
        "        model.train()  # put the model to train mode\n",
        "        # shape of input images is (B, 1, 28, 28).\n",
        "        images = images.view(-1, 28*28)  # reshape to (B, 784).\n",
        "        images = images.to(device)\n",
        "        labels = labels.to(device)  # shape (B).\n",
        "        net_output = model(images)  # shape (B, 10).\n",
        "        loss = loss_fn(net_output, labels)\n",
        "        optimizer.zero_grad()  # reset gradients.\n",
        "        loss.backward()  # compute gradients.\n",
        "\n",
        "        optimizer.step()  # update parameters.\n",
        "\n",
        "        running_loss += loss.item()\n",
        "        running_total += labels.size(0)\n",
        "\n",
        "        with torch.no_grad():\n",
        "            _, predicted = net_output.max(1)\n",
        "        running_correct += (predicted == labels).sum().item()\n",
        "        run_step += 1\n",
        "        if i % 200 == 0:\n",
        "            # check accuracy.\n",
        "            print(f'epoch: {epoch}, steps: {i}, '\n",
        "                  f'train_loss: {running_loss / run_step :.3f}, '\n",
        "                  f'running_acc: {100 * running_correct / running_total:.1f} %')\n",
        "            running_loss = 0.0\n",
        "            running_total = 0\n",
        "            running_correct = 0\n",
        "            run_step = 0\n",
        "\n",
        "    correct = 0\n",
        "    total = 0\n",
        "    model.eval()\n",
        "    with torch.no_grad():\n",
        "        for data in f_test_loader:\n",
        "            images, labels = data\n",
        "            images, labels = images.to(device), labels.to(device)\n",
        "            images = images.view(-1, 28*28)\n",
        "            outputs = model(images)\n",
        "            _, predicted = outputs.max(1)\n",
        "            total += labels.size(0)\n",
        "            correct += (predicted == labels).sum().item()\n",
        "    test_acc = 100 * correct / total\n",
        "    f_mnist_acc.append(test_acc)\n",
        "    print(f'Fashion Test accuracy: {100 * correct / total: .1f} %')\n",
        "\n",
        "    correct = 0\n",
        "    total = 0\n",
        "    model.eval()\n",
        "    # NB: we also evaluate on Task 1 during Task 2 training (for the plot)\n",
        "    with torch.no_grad():\n",
        "        for data in test_loader:\n",
        "            images, labels = data\n",
        "            images, labels = images.to(device), labels.to(device)\n",
        "            images = images.view(-1, 28*28)\n",
        "            outputs = model(images)\n",
        "            _, predicted = outputs.max(1)\n",
        "            total += labels.size(0)\n",
        "            correct += (predicted == labels).sum().item()\n",
        "    test_acc = 100 * correct / total\n",
        "    mnist_acc.append(test_acc)\n",
        "    steps.append(k)\n",
        "    k += 1\n",
        "print('Finished Training')"
      ],
      "execution_count": 17,
      "outputs": [
        {
          "output_type": "stream",
          "name": "stdout",
          "text": [
            "epoch: 1, steps: 0, train_loss: 2.436, running_acc: 0.0 %\n",
            "Fashion Test accuracy:  24.7 %\n",
            "epoch: 2, steps: 0, train_loss: 1.327, running_acc: 27.3 %\n",
            "Fashion Test accuracy:  93.8 %\n",
            "epoch: 3, steps: 0, train_loss: 1.012, running_acc: 93.0 %\n",
            "Fashion Test accuracy:  94.7 %\n",
            "epoch: 4, steps: 0, train_loss: 0.829, running_acc: 93.8 %\n",
            "Fashion Test accuracy:  94.8 %\n",
            "epoch: 5, steps: 0, train_loss: 0.696, running_acc: 93.8 %\n",
            "Fashion Test accuracy:  95.0 %\n",
            "Finished Training\n"
          ]
        }
      ]
    },
    {
      "cell_type": "code",
      "source": [
        "# Task 2 (Fashion-MNIST) evaluation after Task 2 training\n",
        "with torch.no_grad():\n",
        "    correct = 0\n",
        "    total = 0\n",
        "    model.eval() # Set model in eval mode. Don’t forget!\n",
        "    for data in f_test_loader:\n",
        "        images, labels = data\n",
        "        images = images.view(-1, 28*28)\n",
        "        images = images.to(device)\n",
        "        labels = labels.to(device) # shape (B)\n",
        "        outputs = model(images) # shape (B, num_classes)\n",
        "        _, predicted = outputs.max(dim=1)\n",
        "        total += labels.size(0)\n",
        "        correct += (predicted == labels).sum().item()\n",
        "test_acc = 100 * correct / total\n",
        "print(f'Fashion Test accuracy: {test_acc} %')"
      ],
      "metadata": {
        "colab": {
          "base_uri": "https://localhost:8080/"
        },
        "id": "wYCjrBgDyrxb",
        "outputId": "f5601cac-c24f-49c3-8a31-83ae74d80030"
      },
      "execution_count": 18,
      "outputs": [
        {
          "output_type": "stream",
          "name": "stdout",
          "text": [
            "Fashion Test accuracy: 94.95 %\n"
          ]
        }
      ]
    },
    {
      "cell_type": "code",
      "source": [
        "# Task 1 (MNIST) evaluation after Task 2 training\n",
        "with torch.no_grad():\n",
        "    correct = 0\n",
        "    total = 0\n",
        "    model.eval() # Set model in eval mode. Don’t forget!\n",
        "    for data in test_loader:\n",
        "        images, labels = data\n",
        "        images = images.view(-1, 28*28)\n",
        "        images = images.to(device)\n",
        "        labels = labels.to(device) # shape (B)\n",
        "        outputs = model(images) # shape (B, num_classes)\n",
        "        _, predicted = outputs.max(dim=1)\n",
        "        total += labels.size(0)\n",
        "        correct += (predicted == labels).sum().item()\n",
        "test_acc = 100 * correct / total\n",
        "print(f'MNIST Test accuracy: {test_acc} %')"
      ],
      "metadata": {
        "colab": {
          "base_uri": "https://localhost:8080/"
        },
        "id": "1AZcyqEezG-A",
        "outputId": "7529979f-979b-44ba-c3db-bd9393428880"
      },
      "execution_count": 19,
      "outputs": [
        {
          "output_type": "stream",
          "name": "stdout",
          "text": [
            "MNIST Test accuracy: 9.125295508274231 %\n"
          ]
        }
      ]
    },
    {
      "cell_type": "code",
      "source": [
        "# Evolution of performance on both tasks\n",
        "\n",
        "plt.plot(steps, mnist_acc, \"-or\", label=\"Task 1 (MNIST)\")\n",
        "plt.plot(steps, f_mnist_acc, \"-ob\", label=\"Task 2 (FashionMNIST)\")\n",
        "\n",
        "plt.xlabel('Training Epoch (dataset changes after Epoch 5)', fontsize=14, color='black')\n",
        "plt.ylabel('Classification Accuracy (%)', fontsize=14, color='black')\n",
        "\n",
        "plt.legend(loc=(0.03, 0.23), fontsize=13)\n",
        "plt.show()"
      ],
      "metadata": {
        "colab": {
          "base_uri": "https://localhost:8080/",
          "height": 454
        },
        "id": "kc4qQH3fLhZs",
        "outputId": "2fa203d1-fe80-46f6-bba2-7366022f9b51"
      },
      "execution_count": 20,
      "outputs": [
        {
          "output_type": "display_data",
          "data": {
            "text/plain": [
              "<Figure size 640x480 with 1 Axes>"
            ],
            "image/png": "[encoded data removed]"
          },
          "metadata": {}
        }
      ]
    },
    {
      "cell_type": "markdown",
      "source": [
        "# Optogenetic memory recovery"
      ],
      "metadata": {
        "id": "UFqFlMmq7YrD"
      }
    },
    {
      "cell_type": "code",
      "source": [
        "optogenetic_strength = 1.7\n",
        "\n",
        "# Evaluation\n",
        "with torch.no_grad():\n",
        "    correct = 0\n",
        "    total = 0\n",
        "    model.eval() # Set model in eval mode. Don’t forget!\n",
        "    for data in test_loader:\n",
        "        images, labels = data\n",
        "        images = images.view(-1, 28*28)\n",
        "        images = images.to(device)\n",
        "        labels = labels.to(device) # shape (B)\n",
        "        outputs = model(images, weight_task_one=optogenetic_strength) # shape (B, num_classes)\n",
        "        _, predicted = outputs.max(dim=1)\n",
        "        total += labels.size(0)\n",
        "        correct += (predicted == labels).sum().item()\n",
        "test_acc = 100 * correct / total\n",
        "print(f'MNIST Test accuracy: {test_acc} %')"
      ],
      "metadata": {
        "id": "aaqjiisezMm7",
        "colab": {
          "base_uri": "https://localhost:8080/"
        },
        "outputId": "6ddc8728-28ff-40d4-b566-a60469d55d2d"
      },
      "execution_count": 21,
      "outputs": [
        {
          "output_type": "stream",
          "name": "stdout",
          "text": [
            "MNIST Test accuracy: 98.53427895981088 %\n"
          ]
        }
      ]
    },
    {
      "cell_type": "markdown",
      "source": [
        "# Ablation on optogenetic strength"
      ],
      "metadata": {
        "id": "u4P6TdwMLxGj"
      }
    },
    {
      "cell_type": "code",
      "source": [
        "strength = []\n",
        "for i in range(10):\n",
        "    strength.append(1. + i*0.1)"
      ],
      "metadata": {
        "id": "FN96DE0QNUX7"
      },
      "execution_count": 22,
      "outputs": []
    },
    {
      "cell_type": "code",
      "source": [
        "acc = []\n",
        "\n",
        "for optogenetic_strength in strength:\n",
        "\n",
        "    # Evaluation\n",
        "    with torch.no_grad():\n",
        "        correct = 0\n",
        "        total = 0\n",
        "        model.eval() # Set model in eval mode. Don’t forget!\n",
        "        for data in test_loader:\n",
        "            images, labels = data\n",
        "            images = images.view(-1, 28*28)\n",
        "            images = images.to(device)\n",
        "            labels = labels.to(device) # shape (B)\n",
        "            outputs = model(images, weight_task_one=optogenetic_strength) # shape (B, num_classes)\n",
        "            _, predicted = outputs.max(dim=1)\n",
        "            total += labels.size(0)\n",
        "            correct += (predicted == labels).sum().item()\n",
        "        test_acc = 100 * correct / total\n",
        "        acc.append(test_acc)\n",
        "        print(f'[strength = {optogenetic_strength:.1f}] Task 1 (MNIST) Test accuracy: {test_acc:.2f} %')"
      ],
      "metadata": {
        "colab": {
          "base_uri": "https://localhost:8080/"
        },
        "id": "45dcKrFFceyy",
        "outputId": "4ec6e5a3-4060-456a-9460-150ed7764558"
      },
      "execution_count": 23,
      "outputs": [
        {
          "output_type": "stream",
          "name": "stdout",
          "text": [
            "[strength = 1.0] Task 1 (MNIST) Test accuracy: 9.13 %\n",
            "[strength = 1.1] Task 1 (MNIST) Test accuracy: 28.65 %\n",
            "[strength = 1.2] Task 1 (MNIST) Test accuracy: 55.51 %\n",
            "[strength = 1.3] Task 1 (MNIST) Test accuracy: 77.73 %\n",
            "[strength = 1.4] Task 1 (MNIST) Test accuracy: 89.22 %\n",
            "[strength = 1.5] Task 1 (MNIST) Test accuracy: 94.52 %\n",
            "[strength = 1.6] Task 1 (MNIST) Test accuracy: 97.26 %\n",
            "[strength = 1.7] Task 1 (MNIST) Test accuracy: 98.53 %\n",
            "[strength = 1.8] Task 1 (MNIST) Test accuracy: 99.10 %\n",
            "[strength = 1.9] Task 1 (MNIST) Test accuracy: 99.48 %\n"
          ]
        }
      ]
    },
    {
      "cell_type": "code",
      "source": [
        "# plt.scatter(x=strength, y=acc)\n",
        "plt.plot(strength, acc, \"-om\")\n",
        "\n",
        "plt.xlabel('Optogenetic Strength (beta)', fontsize=14, color='black')\n",
        "plt.ylabel('Classification Accuracy MNIST (%)', fontsize=14, color='black')\n",
        "\n",
        "plt.show()"
      ],
      "metadata": {
        "colab": {
          "base_uri": "https://localhost:8080/",
          "height": 454
        },
        "id": "wszzos2UdKqB",
        "outputId": "29595b93-8e67-4c03-8104-e3043b065d87"
      },
      "execution_count": 24,
      "outputs": [
        {
          "output_type": "display_data",
          "data": {
            "text/plain": [
              "<Figure size 640x480 with 1 Axes>"
            ],
            "image/png": "[encoded data removed]"
          },
          "metadata": {}
        }
      ]
    }
  ]
}